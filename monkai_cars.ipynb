{
  "nbformat": 4,
  "nbformat_minor": 0,
  "metadata": {
    "colab": {
      "name": "monkai cars.ipynb",
      "provenance": [],
      "collapsed_sections": []
    },
    "kernelspec": {
      "name": "python3",
      "display_name": "Python 3"
    },
    "accelerator": "GPU"
  },
  "cells": [
    {
      "cell_type": "code",
      "metadata": {
        "id": "FF4yWx7HQmle",
        "colab_type": "code",
        "colab": {}
      },
      "source": [
        "\n",
        "! git clone https://github.com/Tessellate-Imaging/monk_v1.git"
      ],
      "execution_count": null,
      "outputs": []
    },
    {
      "cell_type": "code",
      "metadata": {
        "id": "VdYIGy4uQ227",
        "colab_type": "code",
        "colab": {}
      },
      "source": [
        "\n",
        "# If using Colab install using the commands below\n",
        "! cd monk_v1/installation/Misc && pip install -r requirements_colab.txt"
      ],
      "execution_count": null,
      "outputs": []
    },
    {
      "cell_type": "code",
      "metadata": {
        "id": "ripEb8G3SAzi",
        "colab_type": "code",
        "colab": {}
      },
      "source": [
        "from google.colab import drive\n",
        "\n",
        "drive.mount('/content/gdrive')"
      ],
      "execution_count": null,
      "outputs": []
    },
    {
      "cell_type": "code",
      "metadata": {
        "id": "xFTjo8FpU4Kj",
        "colab_type": "code",
        "colab": {}
      },
      "source": [
        "\t\n",
        "!wget --header=\"Host: imagenet.stanford.edu\" --header=\"User-Agent: Mozilla/5.0 (Windows NT 10.0; Win64; x64) AppleWebKit/537.36 (KHTML, like Gecko) Chrome/83.0.4103.116 Safari/537.36\" --header=\"Accept: text/html,application/xhtml+xml,application/xml;q=0.9,image/webp,image/apng,*/*;q=0.8,application/signed-exchange;v=b3;q=0.9\" --header=\"Accept-Language: en-US,en;q=0.9\" --header=\"Cookie: PHPSESSID=2202752195fc7b7fb58af9a41fb50e32\" --header=\"Connection: keep-alive\" \"http://imagenet.stanford.edu/internal/car196/cars_train.tgz\" -c -O 'cars_train.tgz'"
      ],
      "execution_count": null,
      "outputs": []
    },
    {
      "cell_type": "code",
      "metadata": {
        "id": "y5zNQY9CVAyn",
        "colab_type": "code",
        "colab": {}
      },
      "source": [
        "!wget --header=\"Host: imagenet.stanford.edu\" --header=\"User-Agent: Mozilla/5.0 (Windows NT 10.0; Win64; x64) AppleWebKit/537.36 (KHTML, like Gecko) Chrome/83.0.4103.116 Safari/537.36\" --header=\"Accept: text/html,application/xhtml+xml,application/xml;q=0.9,image/webp,image/apng,*/*;q=0.8,application/signed-exchange;v=b3;q=0.9\" --header=\"Accept-Language: en-US,en;q=0.9\" --header=\"Cookie: PHPSESSID=2202752195fc7b7fb58af9a41fb50e32\" --header=\"Connection: keep-alive\" \"http://imagenet.stanford.edu/internal/car196/cars_test.tgz\" -c -O 'cars_test.tgz'"
      ],
      "execution_count": null,
      "outputs": []
    },
    {
      "cell_type": "code",
      "metadata": {
        "id": "e2WDx29xVdsA",
        "colab_type": "code",
        "colab": {}
      },
      "source": [
        "!wget --header=\"Host: ai.stanford.edu\" --header=\"User-Agent: Mozilla/5.0 (Windows NT 10.0; Win64; x64) AppleWebKit/537.36 (KHTML, like Gecko) Chrome/83.0.4103.116 Safari/537.36\" --header=\"Accept: text/html,application/xhtml+xml,application/xml;q=0.9,image/webp,image/apng,*/*;q=0.8,application/signed-exchange;v=b3;q=0.9\" --header=\"Accept-Language: en-US,en;q=0.9\" --header=\"Referer: https://ai.stanford.edu/~jkrause/cars/car_dataset.html\" \"https://ai.stanford.edu/~jkrause/cars/car_devkit.tgz\" -c -O 'car_devkit.tgz'"
      ],
      "execution_count": null,
      "outputs": []
    },
    {
      "cell_type": "code",
      "metadata": {
        "id": "s8oR5nM-RUD4",
        "colab_type": "code",
        "colab": {}
      },
      "source": [
        "%%bash\n",
        "mkdir foldername\n",
        "tar -xvf '/content/cars_train.tgz' -C '/content/'"
      ],
      "execution_count": null,
      "outputs": []
    },
    {
      "cell_type": "code",
      "metadata": {
        "id": "Uvu7ispjVKfM",
        "colab_type": "code",
        "colab": {}
      },
      "source": [
        "%%bash\n",
        "mkdir foldername\n",
        "tar -xvf '/content/cars_test.tgz' -C '/content/'"
      ],
      "execution_count": null,
      "outputs": []
    },
    {
      "cell_type": "code",
      "metadata": {
        "id": "TeMIeG5ATbDB",
        "colab_type": "code",
        "colab": {}
      },
      "source": [
        ""
      ],
      "execution_count": null,
      "outputs": []
    },
    {
      "cell_type": "code",
      "metadata": {
        "id": "tjaCo9JZTr81",
        "colab_type": "code",
        "colab": {}
      },
      "source": [
        "\n",
        "# Monk\n",
        "import os\n",
        "import sys\n",
        "sys.path.append(\"monk_v1/monk/\");"
      ],
      "execution_count": null,
      "outputs": []
    },
    {
      "cell_type": "code",
      "metadata": {
        "id": "0HcpkuB4UIQB",
        "colab_type": "code",
        "colab": {}
      },
      "source": [
        "\n",
        "# For pytorch backend\n",
        "from pytorch_prototype import prototype\n",
        "\n",
        "# For Keras backend\n",
        "#from keras_prototype import prototype"
      ],
      "execution_count": null,
      "outputs": []
    },
    {
      "cell_type": "code",
      "metadata": {
        "id": "ZA7U5zv1UAWp",
        "colab_type": "code",
        "colab": {}
      },
      "source": [
        "\n",
        "gtf = prototype(verbose=1);\n",
        "gtf.Prototype(\"Project-Cars\", \"Gluon-Resnet50\");"
      ],
      "execution_count": null,
      "outputs": []
    },
    {
      "cell_type": "code",
      "metadata": {
        "id": "Skdz95B_UCm9",
        "colab_type": "code",
        "colab": {}
      },
      "source": [
        "\n",
        "gtf.Default(dataset_path=\"/content/cars_train\",\n",
        "            path_to_csv=\"cars_train.csv\", \n",
        "            model_name=\"resnet50\", num_epochs=2);"
      ],
      "execution_count": null,
      "outputs": []
    },
    {
      "cell_type": "code",
      "metadata": {
        "id": "PkGiSdwYawM3",
        "colab_type": "code",
        "colab": {}
      },
      "source": [
        "gtf.Prototype(\"Project-Cars\", \"sample-experiment-1\", eval_infer=True);"
      ],
      "execution_count": null,
      "outputs": []
    },
    {
      "cell_type": "code",
      "metadata": {
        "id": "lfxXJYWubPN9",
        "colab_type": "code",
        "colab": {}
      },
      "source": [
        "gtf.Dataset_Params(dataset_path=\"/content/cars_train\" ,path_to_csv=\"cars_train.csv\" );\n",
        "gtf.Dataset();\n",
        "accuracy, class_based_accuracy = gtf.Evaluate( );"
      ],
      "execution_count": null,
      "outputs": []
    },
    {
      "cell_type": "code",
      "metadata": {
        "id": "ZVvxtD-2Y_Yk",
        "colab_type": "code",
        "colab": {}
      },
      "source": [
        "gtf.Train()"
      ],
      "execution_count": null,
      "outputs": []
    },
    {
      "cell_type": "code",
      "metadata": {
        "id": "IHYlaAS5ehDU",
        "colab_type": "code",
        "colab": {}
      },
      "source": [
        ""
      ],
      "execution_count": null,
      "outputs": []
    },
    {
      "cell_type": "code",
      "metadata": {
        "id": "YTola_LKehAh",
        "colab_type": "code",
        "colab": {}
      },
      "source": [
        ""
      ],
      "execution_count": null,
      "outputs": []
    },
    {
      "cell_type": "code",
      "metadata": {
        "id": "BGiUQx9QV3y2",
        "colab_type": "code",
        "colab": {}
      },
      "source": [
        "img_name = \"/content/cars_test/00001.jpg\"\n",
        "predictions = gtf.Infer(img_name=img_name);\n",
        "from IPython.display import Image\n",
        "Image(filename=img_name)"
      ],
      "execution_count": null,
      "outputs": []
    },
    {
      "cell_type": "code",
      "metadata": {
        "id": "IobqkOjNZfvu",
        "colab_type": "code",
        "colab": {}
      },
      "source": [
        "img_name = \"/content/cars_test/00021.jpg\"\n",
        "predictions = gtf.Infer(img_name=img_name);\n",
        "from IPython.display import Image\n",
        "Image(filename=img_name)"
      ],
      "execution_count": null,
      "outputs": []
    },
    {
      "cell_type": "code",
      "metadata": {
        "id": "DWiSFdDweWXZ",
        "colab_type": "code",
        "colab": {}
      },
      "source": [
        "img_name = \"/content/cars_test/00521.jpg\"\n",
        "predictions = gtf.Infer(img_name=img_name);\n",
        "from IPython.display import Image\n",
        "Image(filename=img_name)"
      ],
      "execution_count": null,
      "outputs": []
    }
  ]
}